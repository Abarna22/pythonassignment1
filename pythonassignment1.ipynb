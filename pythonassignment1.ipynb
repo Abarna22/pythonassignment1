{
 "cells": [
  {
   "cell_type": "raw",
   "id": "c35636bc",
   "metadata": {},
   "source": [
    "\"\"\"1. In the below elements which of them are values or an expression? eg:- values can be\n",
    "integer or string and expressions will be mathematical operators.\n",
    "*\n",
    "&#39;hello&#39;\n",
    "-87.8\n",
    "-\n",
    "/\n",
    "+\n",
    "6\"\"\"\n",
    "\n",
    "ans- \n",
    "\n",
    "Values- -87.8, 6\n",
    "Expression- *, &#39;hello&#39;, -, /, +"
   ]
  },
  {
   "cell_type": "raw",
   "id": "d0fcd560",
   "metadata": {},
   "source": [
    "2. What is the difference between string and variable?\n",
    "\n",
    "ans- variable contains information which we store, string is the type of information which we store in the variable."
   ]
  },
  {
   "cell_type": "raw",
   "id": "34a27cf9",
   "metadata": {},
   "source": [
    "3. Describe three different data types.\n",
    "\n",
    "ans-\n",
    " Int- interger data type holds whole number eg-852\n",
    " Float- float data type holds decimal value eg-9.3\n",
    " boolen- holds true/false value"
   ]
  },
  {
   "cell_type": "raw",
   "id": "04d1e175",
   "metadata": {},
   "source": [
    "4. What is an expression made up of? What do all expressions do?\n",
    "\n",
    "ans-An expression is a combination of operators and operands that is interpreted to produce some value. "
   ]
  },
  {
   "cell_type": "raw",
   "id": "db058ee2",
   "metadata": {},
   "source": [
    "5. This assignment statements, like spam = 10. What is the difference between an\n",
    "expression and a statement?\n",
    "\n",
    "Ans-Expression is made up of values, containers, and mathematical operators and the statement is just like a command that a python interpreter executes like print\n"
   ]
  },
  {
   "cell_type": "code",
   "execution_count": 1,
   "id": "0946a722",
   "metadata": {},
   "outputs": [
    {
     "data": {
      "text/plain": [
       "23"
      ]
     },
     "execution_count": 1,
     "metadata": {},
     "output_type": "execute_result"
    }
   ],
   "source": [
    "\"\"\"6. After running the following code, what does the variable bacon contain?\n",
    "bacon = 22\n",
    "bacon + 1\"\"\"\n",
    "\n",
    "bacon = 22\n",
    "bacon + 1"
   ]
  },
  {
   "cell_type": "code",
   "execution_count": 2,
   "id": "448312dc",
   "metadata": {},
   "outputs": [
    {
     "ename": "NameError",
     "evalue": "name 'spam' is not defined",
     "output_type": "error",
     "traceback": [
      "\u001b[1;31m---------------------------------------------------------------------------\u001b[0m",
      "\u001b[1;31mNameError\u001b[0m                                 Traceback (most recent call last)",
      "\u001b[1;32m<ipython-input-2-5bc7ce9104af>\u001b[0m in \u001b[0;36m<module>\u001b[1;34m\u001b[0m\n\u001b[0;32m      3\u001b[0m spam * 3\"\"\"\n\u001b[0;32m      4\u001b[0m \u001b[1;33m\u001b[0m\u001b[0m\n\u001b[1;32m----> 5\u001b[1;33m \u001b[0mspam\u001b[0m \u001b[1;33m+\u001b[0m \u001b[0mspamspam\u001b[0m\u001b[1;33m\u001b[0m\u001b[1;33m\u001b[0m\u001b[0m\n\u001b[0m\u001b[0;32m      6\u001b[0m \u001b[0mspam\u001b[0m \u001b[1;33m*\u001b[0m \u001b[1;36m3\u001b[0m\u001b[1;33m\u001b[0m\u001b[1;33m\u001b[0m\u001b[0m\n",
      "\u001b[1;31mNameError\u001b[0m: name 'spam' is not defined"
     ]
    }
   ],
   "source": [
    "\"\"\"7. What should the values of the following two terms be?\n",
    "spam + spamspam\n",
    "spam * 3\"\"\"\n",
    "\n",
    "spam + spamspam\n",
    "spam * 3\n",
    "\n",
    "\"\"\"ANS-throughs error because spam is not declared what kind of variable\"\"\""
   ]
  },
  {
   "cell_type": "raw",
   "id": "53b81939",
   "metadata": {},
   "source": [
    "8. Why is eggs a valid variable name while 100 is invalid?\n",
    "\n",
    "ANS-Variable names cannot begin with a number"
   ]
  },
  {
   "cell_type": "code",
   "execution_count": 6,
   "id": "0d1b04c4",
   "metadata": {},
   "outputs": [
    {
     "name": "stdout",
     "output_type": "stream",
     "text": [
      "enter integer value 8\n",
      "enter float value8\n",
      "enter a string8\n"
     ]
    },
    {
     "data": {
      "text/plain": [
       "'8'"
      ]
     },
     "execution_count": 6,
     "metadata": {},
     "output_type": "execute_result"
    }
   ],
   "source": [
    "\"\"\"9. What three functions can be used to get the integer, floating-point number, or string\n",
    "version of a value?\"\"\"\n",
    "\n",
    "int(input(\"enter integer value\"))\n",
    "float(input(\"enter float value\"))\n",
    "str(input(\"enter a string\"))\n",
    "\n"
   ]
  },
  {
   "cell_type": "code",
   "execution_count": 7,
   "id": "e4eaf33d",
   "metadata": {},
   "outputs": [
    {
     "ename": "SyntaxError",
     "evalue": "invalid syntax (<ipython-input-7-9c4e8e404a10>, line 3)",
     "output_type": "error",
     "traceback": [
      "\u001b[1;36m  File \u001b[1;32m\"<ipython-input-7-9c4e8e404a10>\"\u001b[1;36m, line \u001b[1;32m3\u001b[0m\n\u001b[1;33m    I have eaten  + 99 +  burritos\u001b[0m\n\u001b[1;37m      ^\u001b[0m\n\u001b[1;31mSyntaxError\u001b[0m\u001b[1;31m:\u001b[0m invalid syntax\n"
     ]
    }
   ],
   "source": [
    "\"\"\"10. Why does this expression cause an error? How can you fix it?\"\"\"\n",
    "\n",
    "I have eaten  + 99 +  burritos\n"
   ]
  },
  {
   "cell_type": "code",
   "execution_count": 9,
   "id": "4191efb3",
   "metadata": {},
   "outputs": [
    {
     "data": {
      "text/plain": [
       "'I have eaten99burritos'"
      ]
     },
     "execution_count": 9,
     "metadata": {},
     "output_type": "execute_result"
    }
   ],
   "source": [
    "#ans for 10th qp\n",
    "\n",
    "\"\"\"The expression causes an error because 99 is an integer,and only strings can be concatenated\n",
    "to other strings with the + operator.\n",
    "ans is\"\"\"\n",
    "\n",
    "'I have eaten'  + str(99 )+  'burritos'\n"
   ]
  },
  {
   "cell_type": "code",
   "execution_count": null,
   "id": "287acb25",
   "metadata": {},
   "outputs": [],
   "source": []
  }
 ],
 "metadata": {
  "kernelspec": {
   "display_name": "Python 3",
   "language": "python",
   "name": "python3"
  },
  "language_info": {
   "codemirror_mode": {
    "name": "ipython",
    "version": 3
   },
   "file_extension": ".py",
   "mimetype": "text/x-python",
   "name": "python",
   "nbconvert_exporter": "python",
   "pygments_lexer": "ipython3",
   "version": "3.8.8"
  }
 },
 "nbformat": 4,
 "nbformat_minor": 5
}
